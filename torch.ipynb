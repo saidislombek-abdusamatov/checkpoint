{
 "cells": [
  {
   "cell_type": "code",
   "execution_count": 1,
   "id": "6664e16e-7828-44cb-8211-825d64038aad",
   "metadata": {
    "tags": []
   },
   "outputs": [],
   "source": [
    "import torch\n",
    "import torchvision\n",
    "import torchvision.transforms as transforms\n",
    "from torch import nn\n",
    "import torch.nn.functional as F"
   ]
  },
  {
   "cell_type": "code",
   "execution_count": 2,
   "id": "554b0741-93a7-497e-8205-46a758a01a42",
   "metadata": {
    "tags": []
   },
   "outputs": [],
   "source": [
    "# Device\n",
    "device = torch.device('cuda' if torch.cuda.is_available() else 'cpu') \n",
    "\n",
    "# Hyperparameters\n",
    "num_epochs = 5\n",
    "num_classes = 10\n",
    "batch_size = 64\n",
    "learning_rate = 0.001"
   ]
  },
  {
   "cell_type": "code",
   "execution_count": 3,
   "id": "3f995aa3-3789-4d6c-b622-a39a3ceb2023",
   "metadata": {
    "tags": []
   },
   "outputs": [
    {
     "name": "stdout",
     "output_type": "stream",
     "text": [
      "Files already downloaded and verified\n"
     ]
    }
   ],
   "source": [
    "# Load Data\n",
    "transform = transforms.Compose([transforms.ToTensor(), \n",
    "                                transforms.Normalize((0.5, 0.5, 0.5), (0.5, 0.5, 0.5))])\n",
    "                                \n",
    "train_dataset = torchvision.datasets.CIFAR10(root='./data',\n",
    "                                             train=True, \n",
    "                                             download=True,\n",
    "                                             transform=transform)\n",
    "                                             \n",
    "train_loader = torch.utils.data.DataLoader(dataset=train_dataset,\n",
    "                                           batch_size=batch_size, \n",
    "                                           shuffle=True)\n",
    "                                \n",
    "test_dataset = torchvision.datasets.CIFAR10(root='./data',\n",
    "                                             train=False,\n",
    "                                             transform=transform)\n",
    "                                             \n",
    "test_loader = torch.utils.data.DataLoader(dataset=test_dataset,\n",
    "                                           batch_size=batch_size, \n",
    "                                           shuffle=True)"
   ]
  },
  {
   "cell_type": "code",
   "execution_count": 4,
   "id": "967c10c9-ce95-46dd-9d58-e20e76ad2545",
   "metadata": {
    "tags": []
   },
   "outputs": [],
   "source": [
    "# ConvNet Model\n",
    "class ConvNet(nn.Module):\n",
    "    def __init__(self, num_classes=10):\n",
    "        super(ConvNet, self).__init__()\n",
    "        self.conv1 = nn.Conv2d(3, 16, kernel_size=3, padding=1)\n",
    "        self.bn1 = nn.BatchNorm2d(16)\n",
    "        self.conv2 = nn.Conv2d(16, 32, kernel_size=3, padding=1)\n",
    "        self.bn2 = nn.BatchNorm2d(32)\n",
    "        self.pool = nn.MaxPool2d(2, 2)\n",
    "        self.fc1 = nn.Linear(32*8*8, 128)\n",
    "        self.fc2 = nn.Linear(128, 64)\n",
    "        self.fc3 = nn.Linear(64, num_classes)\n",
    "\n",
    "    def forward(self, x):\n",
    "        x = self.pool(F.relu(self.bn1(self.conv1(x))))\n",
    "        x = self.pool(F.relu(self.bn2(self.conv2(x))))\n",
    "        x = x.view(-1, 32*8*8)\n",
    "        x = F.relu(self.fc1(x))\n",
    "        x = F.relu(self.fc2(x))\n",
    "        x = self.fc3(x)\n",
    "        return x\n",
    "    \n",
    "model = ConvNet(num_classes).to(device)"
   ]
  },
  {
   "cell_type": "code",
   "execution_count": 5,
   "id": "35dcc7c2-c7cf-40f0-b3c8-477db126c644",
   "metadata": {
    "tags": []
   },
   "outputs": [],
   "source": [
    "# Loss and Optimizer\n",
    "criterion = nn.CrossEntropyLoss()\n",
    "optimizer = torch.optim.Adam(model.parameters(), lr=learning_rate)"
   ]
  },
  {
   "cell_type": "code",
   "execution_count": 6,
   "id": "087dad63-f0bd-404a-b205-3443369d39dc",
   "metadata": {
    "tags": []
   },
   "outputs": [
    {
     "name": "stdout",
     "output_type": "stream",
     "text": [
      "Epoch 1/5\n",
      "Training Loss: 0.0204  |  Training Accuracy: 0.5324\n",
      "Epoch 2/5\n",
      "Training Loss: 0.0152  |  Training Accuracy: 0.6545\n",
      "Epoch 3/5\n",
      "Training Loss: 0.0134  |  Training Accuracy: 0.6969\n",
      "Epoch 4/5\n",
      "Training Loss: 0.0121  |  Training Accuracy: 0.7264\n",
      "Epoch 5/5\n",
      "Training Loss: 0.0110  |  Training Accuracy: 0.7519\n"
     ]
    }
   ],
   "source": [
    "# Train Network\n",
    "train_loss = 0.0\n",
    "train_acc = 0.0\n",
    "\n",
    "for epoch in range(num_epochs):\n",
    "    \n",
    "    train_loss = 0.0\n",
    "    train_acc = 0.0\n",
    "    \n",
    "    print(f'Epoch {epoch+1}/{num_epochs}')\n",
    "    \n",
    "    for i, (images, labels) in enumerate(train_loader):\n",
    "        images = images.to(device)\n",
    "        labels = labels.to(device)\n",
    "\n",
    "        # Forward pass\n",
    "        outputs = model(images)\n",
    "        loss = criterion(outputs, labels)\n",
    "\n",
    "        # Backward and optimize\n",
    "        optimizer.zero_grad()\n",
    "        loss.backward()\n",
    "        optimizer.step()\n",
    "        \n",
    "        train_loss += loss.item()\n",
    "        train_acc += (outputs.argmax(1) == labels).sum().item()\n",
    "\n",
    "    # Print metrics\n",
    "    train_loss /= len(train_loader.dataset)\n",
    "    train_acc /= len(train_loader.dataset)\n",
    "\n",
    "    print(f'Training Loss: {train_loss:.4f}  |  Training Accuracy: {train_acc:.4f}')\n",
    "\n",
    "    # Save checkpoint\n",
    "    torch.save({\n",
    "              'epoch': epoch,\n",
    "              'model_state_dict': model.state_dict(),\n",
    "              'optimizer_state_dict': optimizer.state_dict(),\n",
    "              }, 'checkpoints/checkpoint.pt')"
   ]
  },
  {
   "cell_type": "code",
   "execution_count": 7,
   "id": "fb9bc452-4ced-4724-be6c-af08f634f625",
   "metadata": {},
   "outputs": [
    {
     "name": "stdout",
     "output_type": "stream",
     "text": [
      " Validation Loss: 0.0137  |  Validation Accuracy: 0.6973\n"
     ]
    }
   ],
   "source": [
    "# Evaluation\n",
    "val_loss = 0.0\n",
    "val_acc = 0.0\n",
    "\n",
    "with torch.no_grad():\n",
    "    for images, labels in test_loader:\n",
    "        images = images.to(device)\n",
    "        labels = labels.to(device)\n",
    "        \n",
    "        outputs = model(images)\n",
    "        \n",
    "        # Forward pass\n",
    "        val_loss += criterion(outputs, labels)\n",
    "        val_acc += (outputs.argmax(1) == labels).sum().item()\n",
    "\n",
    "    val_loss /= len(test_loader.dataset)\n",
    "    val_acc /= len(test_loader.dataset)\n",
    "    \n",
    "    print(f' Validation Loss: {val_loss:.4f}  |  Validation Accuracy: {val_acc:.4f}')"
   ]
  },
  {
   "cell_type": "code",
   "execution_count": 8,
   "id": "918c57f8-e3d5-4d3d-8dca-2669637dda91",
   "metadata": {},
   "outputs": [],
   "source": [
    "# Save model\n",
    "torch.save(model, 'models/cifar10.pt')"
   ]
  },
  {
   "cell_type": "code",
   "execution_count": 9,
   "id": "493ae59e-9e25-452e-8f20-044539a5f735",
   "metadata": {
    "tags": []
   },
   "outputs": [],
   "source": [
    "# Load model\n",
    "model = torch.load('models/cifar10.pt')\n",
    "\n",
    "# Loss and Optimizer\n",
    "criterion = nn.CrossEntropyLoss()\n",
    "optimizer = torch.optim.Adam(model.parameters(), lr=learning_rate)"
   ]
  },
  {
   "cell_type": "code",
   "execution_count": 10,
   "id": "853327db-a8a5-42ce-ab0d-c627b66dc426",
   "metadata": {
    "tags": []
   },
   "outputs": [],
   "source": [
    "# Load checkpoint  \n",
    "checkpoint = torch.load('checkpoints/checkpoint.pt')\n",
    "model.load_state_dict(checkpoint['model_state_dict'])\n",
    "optimizer.load_state_dict(checkpoint['optimizer_state_dict'])\n",
    "epoch = checkpoint['epoch']"
   ]
  },
  {
   "cell_type": "code",
   "execution_count": 11,
   "id": "e6970e5a-bdd6-4630-b3c6-9a769106ec83",
   "metadata": {
    "tags": []
   },
   "outputs": [
    {
     "name": "stdout",
     "output_type": "stream",
     "text": [
      "Epoch 5/10\n",
      "Training Loss: 0.0100  |  Training Accuracy: 0.7744\n",
      "Epoch 6/10\n",
      "Training Loss: 0.0090  |  Training Accuracy: 0.7955\n",
      "Epoch 7/10\n",
      "Training Loss: 0.0083  |  Training Accuracy: 0.8117\n",
      "Epoch 8/10\n",
      "Training Loss: 0.0074  |  Training Accuracy: 0.8305\n",
      "Epoch 9/10\n",
      "Training Loss: 0.0068  |  Training Accuracy: 0.8453\n",
      "Epoch 10/10\n",
      "Training Loss: 0.0061  |  Training Accuracy: 0.8599\n"
     ]
    }
   ],
   "source": [
    "# Continue training\n",
    "num_epochs = 10\n",
    "train_loss = 0.0\n",
    "train_acc = 0.0\n",
    "\n",
    "for epoch in range(epoch, num_epochs):\n",
    "    \n",
    "    print(f'Epoch {epoch+1}/{num_epochs}')\n",
    "    \n",
    "    for i, (images, labels) in enumerate(train_loader):\n",
    "        images = images.to(device)\n",
    "        labels = labels.to(device)\n",
    "\n",
    "        # Forward pass\n",
    "        outputs = model(images)\n",
    "        loss = criterion(outputs, labels)\n",
    "\n",
    "        # Backward and optimize\n",
    "        optimizer.zero_grad()\n",
    "        loss.backward()\n",
    "        optimizer.step()\n",
    "        \n",
    "        train_loss += loss.item()\n",
    "        train_acc += (outputs.argmax(1) == labels).sum().item()\n",
    "\n",
    "    # Print metrics\n",
    "    train_loss /= len(train_loader.dataset)\n",
    "    train_acc /= len(train_loader.dataset)\n",
    "\n",
    "    print(f'Training Loss: {train_loss:.4f}  |  Training Accuracy: {train_acc:.4f}')"
   ]
  },
  {
   "cell_type": "code",
   "execution_count": 12,
   "id": "54e7633b-f2a0-4f3d-8567-1e978020c18b",
   "metadata": {
    "tags": []
   },
   "outputs": [
    {
     "name": "stdout",
     "output_type": "stream",
     "text": [
      " Validation Loss: 0.0155  |  Validation Accuracy: 0.7089\n"
     ]
    }
   ],
   "source": [
    "# Evaluation\n",
    "val_loss = 0.0\n",
    "val_acc = 0.0\n",
    "\n",
    "with torch.no_grad():\n",
    "    for images, labels in test_loader:\n",
    "        images = images.to(device)\n",
    "        labels = labels.to(device)\n",
    "        \n",
    "        outputs = model(images)\n",
    "        \n",
    "        # Forward pass\n",
    "        val_loss += criterion(outputs, labels)\n",
    "        val_acc += (outputs.argmax(1) == labels).sum().item()\n",
    "\n",
    "    val_loss /= len(test_loader.dataset)\n",
    "    val_acc /= len(test_loader.dataset)\n",
    "    \n",
    "    print(f' Validation Loss: {val_loss:.4f}  |  Validation Accuracy: {val_acc:.4f}')"
   ]
  },
  {
   "cell_type": "code",
   "execution_count": null,
   "id": "e8847b32-0152-49df-96ef-df3fd33b2bb2",
   "metadata": {},
   "outputs": [],
   "source": []
  }
 ],
 "metadata": {
  "kernelspec": {
   "display_name": "Python 3 (ipykernel)",
   "language": "python",
   "name": "python3"
  },
  "language_info": {
   "codemirror_mode": {
    "name": "ipython",
    "version": 3
   },
   "file_extension": ".py",
   "mimetype": "text/x-python",
   "name": "python",
   "nbconvert_exporter": "python",
   "pygments_lexer": "ipython3",
   "version": "3.10.12"
  }
 },
 "nbformat": 4,
 "nbformat_minor": 5
}
