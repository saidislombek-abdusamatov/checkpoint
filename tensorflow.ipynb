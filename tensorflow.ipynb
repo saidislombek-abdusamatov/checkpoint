{
 "cells": [
  {
   "cell_type": "code",
   "execution_count": 1,
   "id": "ddafac54-303f-44f0-995c-da0c7dec226d",
   "metadata": {
    "tags": []
   },
   "outputs": [],
   "source": [
    "import tensorflow as tf"
   ]
  },
  {
   "cell_type": "code",
   "execution_count": 2,
   "id": "d4067ec7-f077-47dc-b4d8-104216983aca",
   "metadata": {
    "tags": []
   },
   "outputs": [],
   "source": [
    "# Load CIFAR10 dataset\n",
    "(x_train, y_train), (x_test, y_test) = tf.keras.datasets.cifar10.load_data()"
   ]
  },
  {
   "cell_type": "code",
   "execution_count": 3,
   "id": "4b8235c7-9e46-4160-b084-4a4460b86025",
   "metadata": {},
   "outputs": [],
   "source": [
    "# Data processing\n",
    "x_train = x_train.astype('float32') / 255.\n",
    "x_test = x_test.astype('float32') / 255."
   ]
  },
  {
   "cell_type": "code",
   "execution_count": 4,
   "id": "2ca12645-1037-43cd-a120-059a102c735b",
   "metadata": {
    "tags": []
   },
   "outputs": [],
   "source": [
    "# Build model\n",
    "model = tf.keras.Sequential([\n",
    "    tf.keras.layers.Conv2D(16, kernel_size=(3, 3), activation='relu', input_shape=(32, 32, 3)),\n",
    "    tf.keras.layers.BatchNormalization(),\n",
    "    tf.keras.layers.MaxPooling2D(pool_size=(2, 2)),\n",
    "    \n",
    "    tf.keras.layers.Conv2D(32, (3, 3), activation='relu'),\n",
    "    tf.keras.layers.BatchNormalization(),\n",
    "    tf.keras.layers.MaxPooling2D(pool_size=(2, 2)),\n",
    "    \n",
    "    tf.keras.layers.Flatten(),\n",
    "    tf.keras.layers.Dense(128, activation='relu'),\n",
    "    tf.keras.layers.Dense(64, activation='relu'),\n",
    "    tf.keras.layers.Dense(10, activation='softmax')\n",
    "])\n",
    "\n",
    "model.compile(optimizer='adam', \n",
    "              loss='sparse_categorical_crossentropy',\n",
    "              metrics=['accuracy'])"
   ]
  },
  {
   "cell_type": "code",
   "execution_count": 5,
   "id": "5a8610c3-461f-4370-8af6-ee37531166c1",
   "metadata": {
    "tags": []
   },
   "outputs": [],
   "source": [
    "# ModelCheckpoint callback\n",
    "checkpoint_path = \"checkpoints/cifar10_cp.ckpt\"  \n",
    "cp_callback = tf.keras.callbacks.ModelCheckpoint(filepath=checkpoint_path,\n",
    "                                                 save_weights_only=True,\n",
    "                                                 verbose=0)"
   ]
  },
  {
   "cell_type": "code",
   "execution_count": 6,
   "id": "5f121a06-aad0-4f3d-8237-4785f36562a2",
   "metadata": {
    "tags": []
   },
   "outputs": [
    {
     "name": "stdout",
     "output_type": "stream",
     "text": [
      "Epoch 1/5\n",
      "1563/1563 [==============================] - 23s 14ms/step - loss: 1.3196 - accuracy: 0.5324 - val_loss: 1.7746 - val_accuracy: 0.4533\n",
      "Epoch 2/5\n",
      "1563/1563 [==============================] - 22s 14ms/step - loss: 0.9707 - accuracy: 0.6604 - val_loss: 1.0248 - val_accuracy: 0.6483\n",
      "Epoch 3/5\n",
      "1563/1563 [==============================] - 23s 15ms/step - loss: 0.8211 - accuracy: 0.7124 - val_loss: 1.0162 - val_accuracy: 0.6549\n",
      "Epoch 4/5\n",
      "1563/1563 [==============================] - 22s 14ms/step - loss: 0.7104 - accuracy: 0.7495 - val_loss: 0.9197 - val_accuracy: 0.6842\n",
      "Epoch 5/5\n",
      "1563/1563 [==============================] - 23s 14ms/step - loss: 0.6107 - accuracy: 0.7856 - val_loss: 0.9237 - val_accuracy: 0.6952\n"
     ]
    },
    {
     "data": {
      "text/plain": [
       "<keras.src.callbacks.History at 0x29168ae6b60>"
      ]
     },
     "execution_count": 6,
     "metadata": {},
     "output_type": "execute_result"
    }
   ],
   "source": [
    "# Initial training\n",
    "model.fit(x_train, y_train, \n",
    "          epochs=5,\n",
    "          callbacks=[cp_callback],\n",
    "          validation_data=(x_test, y_test))"
   ]
  },
  {
   "cell_type": "code",
   "execution_count": 7,
   "id": "68a7fd23-009d-4bbd-a7c9-132d2aaef216",
   "metadata": {
    "tags": []
   },
   "outputs": [],
   "source": [
    "# Save entire model\n",
    "model.save('models/cifar10.keras')"
   ]
  },
  {
   "cell_type": "code",
   "execution_count": 8,
   "id": "ae67e889-f531-4b8e-a08d-4a25988f951b",
   "metadata": {
    "tags": []
   },
   "outputs": [],
   "source": [
    "# Re-load model\n",
    "model = tf.keras.models.load_model('models/cifar10.keras')"
   ]
  },
  {
   "cell_type": "code",
   "execution_count": 9,
   "id": "5d7ade6c-1dff-4c88-8cc8-e03adb801ea3",
   "metadata": {
    "tags": []
   },
   "outputs": [
    {
     "data": {
      "text/plain": [
       "<tensorflow.python.checkpoint.checkpoint.CheckpointLoadStatus at 0x29168b4ae00>"
      ]
     },
     "execution_count": 9,
     "metadata": {},
     "output_type": "execute_result"
    }
   ],
   "source": [
    "# Restore model weights\n",
    "model.compile(optimizer='adam',\n",
    "              loss='sparse_categorical_crossentropy',\n",
    "              metrics=['accuracy'])\n",
    "              \n",
    "model.load_weights(checkpoint_path)"
   ]
  },
  {
   "cell_type": "code",
   "execution_count": 10,
   "id": "a2d3dc18-4ecb-4850-8880-b2086df17467",
   "metadata": {
    "tags": []
   },
   "outputs": [
    {
     "name": "stdout",
     "output_type": "stream",
     "text": [
      "Epoch 6/10\n",
      "1563/1563 [==============================] - 23s 14ms/step - loss: 0.5300 - accuracy: 0.8129 - val_loss: 1.0011 - val_accuracy: 0.6849\n",
      "Epoch 7/10\n",
      "1563/1563 [==============================] - 20s 13ms/step - loss: 0.4577 - accuracy: 0.8381 - val_loss: 1.1693 - val_accuracy: 0.6563\n",
      "Epoch 8/10\n",
      "1563/1563 [==============================] - 19s 12ms/step - loss: 0.3963 - accuracy: 0.8583 - val_loss: 1.1936 - val_accuracy: 0.6645\n",
      "Epoch 9/10\n",
      "1563/1563 [==============================] - 19s 12ms/step - loss: 0.3468 - accuracy: 0.8772 - val_loss: 1.3977 - val_accuracy: 0.6323\n",
      "Epoch 10/10\n",
      "1563/1563 [==============================] - 19s 12ms/step - loss: 0.3047 - accuracy: 0.8916 - val_loss: 1.3148 - val_accuracy: 0.6594\n"
     ]
    },
    {
     "data": {
      "text/plain": [
       "<keras.src.callbacks.History at 0x2917399d390>"
      ]
     },
     "execution_count": 10,
     "metadata": {},
     "output_type": "execute_result"
    }
   ],
   "source": [
    "# Continue training with 5 more epochs\n",
    "model.fit(x_train, y_train,\n",
    "          epochs=10,\n",
    "          initial_epoch=5,\n",
    "          callbacks=[cp_callback],\n",
    "          validation_data=(x_test, y_test))"
   ]
  },
  {
   "cell_type": "code",
   "execution_count": null,
   "id": "44df6ea4-3b37-48ef-9f46-3de181502d96",
   "metadata": {},
   "outputs": [],
   "source": []
  }
 ],
 "metadata": {
  "kernelspec": {
   "display_name": "Python 3 (ipykernel)",
   "language": "python",
   "name": "python3"
  },
  "language_info": {
   "codemirror_mode": {
    "name": "ipython",
    "version": 3
   },
   "file_extension": ".py",
   "mimetype": "text/x-python",
   "name": "python",
   "nbconvert_exporter": "python",
   "pygments_lexer": "ipython3",
   "version": "3.10.12"
  }
 },
 "nbformat": 4,
 "nbformat_minor": 5
}
